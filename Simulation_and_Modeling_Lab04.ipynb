{
  "nbformat": 4,
  "nbformat_minor": 0,
  "metadata": {
    "colab": {
      "provenance": [],
      "authorship_tag": "ABX9TyOCZQ6HFRNZhLYajhsiZH1W",
      "include_colab_link": true
    },
    "kernelspec": {
      "name": "python3",
      "display_name": "Python 3"
    },
    "language_info": {
      "name": "python"
    }
  },
  "cells": [
    {
      "cell_type": "markdown",
      "metadata": {
        "id": "view-in-github",
        "colab_type": "text"
      },
      "source": [
        "<a href=\"https://colab.research.google.com/github/Jannatu37/codetopa-A/blob/main/Simulation_and_Modeling_Lab04.ipynb\" target=\"_parent\"><img src=\"https://colab.research.google.com/assets/colab-badge.svg\" alt=\"Open In Colab\"/></a>"
      ]
    },
    {
      "cell_type": "code",
      "execution_count": 1,
      "metadata": {
        "id": "YATItF21ZaZH"
      },
      "outputs": [],
      "source": [
        "import numpy as np\n",
        "from scipy import stats\n",
        "import matplotlib.pyplot as plt"
      ]
    },
    {
      "cell_type": "code",
      "source": [
        "data1 = np.array([12.5, 13.2, 11.8, 13.5, 12.9])\n",
        "data2 = np.array([14.2, 14.8, 14.5, 14.7, 14.4])"
      ],
      "metadata": {
        "id": "TxXZsRKaeiQt"
      },
      "execution_count": 2,
      "outputs": []
    },
    {
      "cell_type": "code",
      "source": [
        "t_stat, p_value = stats.ttest_ind(data1, data2, equal_var=False)\n",
        "print(f'Sample 1 Mean: {np.mean(data1):.2f}')\n",
        "print(f'Sample 2 Mean: {np.mean(data2):.2f}')\n",
        "print(f't-Statistic: {t_stat:.2f}')\n",
        "print(f'p-Value: {p_value:.4f}')"
      ],
      "metadata": {
        "colab": {
          "base_uri": "https://localhost:8080/"
        },
        "id": "wlMxFsZzfBxl",
        "outputId": "f85461c3-6c0f-4616-eb32-15c5681160fa"
      },
      "execution_count": 4,
      "outputs": [
        {
          "output_type": "stream",
          "name": "stdout",
          "text": [
            "Sample 1 Mean: 12.78\n",
            "Sample 2 Mean: 14.52\n",
            "t-Statistic: -5.54\n",
            "p-Value: 0.0026\n"
          ]
        }
      ]
    }
  ]
}